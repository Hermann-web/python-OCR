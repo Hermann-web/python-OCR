{
  "nbformat": 4,
  "nbformat_minor": 0,
  "metadata": {
    "colab": {
      "name": "Copie de reconnaissance_de_nombres.ipynb",
      "provenance": []
    },
    "kernelspec": {
      "name": "python3",
      "display_name": "Python 3"
    }
  },
  "cells": [
    {
      "cell_type": "code",
      "metadata": {
        "id": "rX9UeDxsJ7Lo"
      },
      "source": [
        "!pip install tensorflow"
      ],
      "execution_count": null,
      "outputs": []
    },
    {
      "cell_type": "code",
      "metadata": {
        "id": "5t0YIgrnzIED"
      },
      "source": [
        "import tensorflow as tf"
      ],
      "execution_count": null,
      "outputs": []
    },
    {
      "cell_type": "code",
      "metadata": {
        "colab": {
          "base_uri": "https://localhost:8080/"
        },
        "id": "80fbU7IkzNgN",
        "outputId": "c8f8e757-4611-4a8f-fff3-c7c69ecef07d"
      },
      "source": [
        "from tensorflow.keras.datasets import mnist #import d'une biblio de 70.000 images\n",
        "(xtrain, ytrain), (xtest, ytest) = mnist.load_data() #xtrain est une liste de tableau où chaque tableau est une image"
      ],
      "execution_count": null,
      "outputs": [
        {
          "output_type": "stream",
          "text": [
            "Downloading data from https://storage.googleapis.com/tensorflow/tf-keras-datasets/mnist.npz\n",
            "11493376/11490434 [==============================] - 0s 0us/step\n"
          ],
          "name": "stdout"
        }
      ]
    },
    {
      "cell_type": "code",
      "metadata": {
        "colab": {
          "base_uri": "https://localhost:8080/"
        },
        "id": "iBCpchXj0CoQ",
        "outputId": "74731764-3627-4a81-87e1-9bc6bda4df65"
      },
      "source": [
        "print(\"xtrain: shape = \", xtrain.shape)\n",
        "print(\"xtest: shape = \", xtest.shape)\n",
        "print(\"ytrain: shape = \", ytrain.shape)\n",
        "print(\"ytest: shape = \", ytest.shape)"
      ],
      "execution_count": null,
      "outputs": [
        {
          "output_type": "stream",
          "text": [
            "xtrain: shape =  (60000, 28, 28)\n",
            "xtest: shape =  (10000, 28, 28)\n",
            "ytrain: shape =  (60000,)\n",
            "ytest: shape =  (10000,)\n"
          ],
          "name": "stdout"
        }
      ]
    },
    {
      "cell_type": "markdown",
      "metadata": {
        "id": "5A84Iede0tWY"
      },
      "source": [
        "les images sont de tailles 28*28"
      ]
    },
    {
      "cell_type": "markdown",
      "metadata": {
        "id": "H6-uWqDp08Bl"
      },
      "source": [
        "On va afficher qq images"
      ]
    },
    {
      "cell_type": "code",
      "metadata": {
        "colab": {
          "base_uri": "https://localhost:8080/",
          "height": 1000
        },
        "id": "ADz0ePpH0wny",
        "outputId": "f1e0b461-8b64-4dcd-ff51-22d7cef50cde"
      },
      "source": [
        "import matplotlib.pyplot as plt\n",
        "%matplotlib inline \n",
        "#pour être sur que ce sera importé en ligne \n",
        "\n",
        "Liste = [0,1,2,500]\n",
        "for n in Liste:\n",
        "  plt.imshow(xtrain[n], cmap='binary')  #la deuxième image #c'esr du noir sur blanc\n",
        "  plt.show()\n",
        "  print(\"le nombre est \", ytrain[n] )"
      ],
      "execution_count": null,
      "outputs": [
        {
          "output_type": "display_data",
          "data": {
            "image/png": "[encoded data removed]",
            "text/plain": [
              "<Figure size 432x288 with 1 Axes>"
            ]
          },
          "metadata": {
            "tags": [],
            "needs_background": "light"
          }
        },
        {
          "output_type": "stream",
          "text": [
            "le nombre est  5\n"
          ],
          "name": "stdout"
        },
        {
          "output_type": "display_data",
          "data": {
            "image/png": "[encoded data removed]",
            "text/plain": [
              "<Figure size 432x288 with 1 Axes>"
            ]
          },
          "metadata": {
            "tags": [],
            "needs_background": "light"
          }
        },
        {
          "output_type": "stream",
          "text": [
            "le nombre est  0\n"
          ],
          "name": "stdout"
        },
        {
          "output_type": "display_data",
          "data": {
            "image/png": "[encoded data removed]",
            "text/plain": [
              "<Figure size 432x288 with 1 Axes>"
            ]
          },
          "metadata": {
            "tags": [],
            "needs_background": "light"
          }
        },
        {
          "output_type": "stream",
          "text": [
            "le nombre est  4\n"
          ],
          "name": "stdout"
        },
        {
          "output_type": "display_data",
          "data": {
            "image/png": "[encoded data removed]",
            "text/plain": [
              "<Figure size 432x288 with 1 Axes>"
            ]
          },
          "metadata": {
            "tags": [],
            "needs_background": "light"
          }
        },
        {
          "output_type": "stream",
          "text": [
            "le nombre est  3\n"
          ],
          "name": "stdout"
        }
      ]
    },
    {
      "cell_type": "markdown",
      "metadata": {
        "id": "Rm3bZCVV3j4c"
      },
      "source": [
        "Voir les etiquettes "
      ]
    },
    {
      "cell_type": "code",
      "metadata": {
        "colab": {
          "base_uri": "https://localhost:8080/"
        },
        "id": "FmMB2TF_3qh8",
        "outputId": "0e45fdfb-e60b-4c29-beb6-d75ae70aac32"
      },
      "source": [
        "print(set(ytrain))"
      ],
      "execution_count": null,
      "outputs": [
        {
          "output_type": "stream",
          "text": [
            "{0, 1, 2, 3, 4, 5, 6, 7, 8, 9}\n"
          ],
          "name": "stdout"
        }
      ]
    },
    {
      "cell_type": "markdown",
      "metadata": {
        "id": "E2wq8-YY37NN"
      },
      "source": [
        "On fera une normalisation: encodage sur 9 bits: une valeur sera=1 et le reste sera nul"
      ]
    },
    {
      "cell_type": "code",
      "metadata": {
        "id": "dCkUyvNl3u_G"
      },
      "source": [
        "from tensorflow.keras.utils import to_categorical"
      ],
      "execution_count": null,
      "outputs": []
    },
    {
      "cell_type": "code",
      "metadata": {
        "id": "FAEinyfL4aoB"
      },
      "source": [
        "ytrain_encoded = to_categorical(ytrain)\n",
        "ytest_encoded = to_categorical(ytest)"
      ],
      "execution_count": null,
      "outputs": []
    },
    {
      "cell_type": "code",
      "metadata": {
        "colab": {
          "base_uri": "https://localhost:8080/"
        },
        "id": "zssfjiW44pG-",
        "outputId": "d0f6b809-6ce4-4e3e-cae6-b6d06d07fd91"
      },
      "source": [
        "ytrain[:7], ytrain_encoded[:7]"
      ],
      "execution_count": null,
      "outputs": [
        {
          "output_type": "execute_result",
          "data": {
            "text/plain": [
              "(array([5, 0, 4, 1, 9, 2, 1], dtype=uint8),\n",
              " array([[0., 0., 0., 0., 0., 1., 0., 0., 0., 0.],\n",
              "        [1., 0., 0., 0., 0., 0., 0., 0., 0., 0.],\n",
              "        [0., 0., 0., 0., 1., 0., 0., 0., 0., 0.],\n",
              "        [0., 1., 0., 0., 0., 0., 0., 0., 0., 0.],\n",
              "        [0., 0., 0., 0., 0., 0., 0., 0., 0., 1.],\n",
              "        [0., 0., 1., 0., 0., 0., 0., 0., 0., 0.],\n",
              "        [0., 1., 0., 0., 0., 0., 0., 0., 0., 0.]], dtype=float32))"
            ]
          },
          "metadata": {
            "tags": []
          },
          "execution_count": 25
        }
      ]
    },
    {
      "cell_type": "markdown",
      "metadata": {
        "id": "J6mZj3cq7jKg"
      },
      "source": [
        "chaque donnée devient une liste de 0 et de 1 seul 1"
      ]
    },
    {
      "cell_type": "markdown",
      "metadata": {
        "id": "OoUIK87_50V-"
      },
      "source": [
        "C'est un probleme de regression lineaire finalement\n",
        "On aura 3 couches, 128 noeuds dans les deux premières et 10 dans la troixième"
      ]
    },
    {
      "cell_type": "markdown",
      "metadata": {
        "id": "XZkOj-AM7Xnl"
      },
      "source": [
        "On va transformer les tableaux en vecteurs"
      ]
    },
    {
      "cell_type": "code",
      "metadata": {
        "colab": {
          "base_uri": "https://localhost:8080/"
        },
        "id": "yiEjedY15C3Y",
        "outputId": "2463d1ce-6a8c-4adf-9b9a-0d8183e5797f"
      },
      "source": [
        "import numpy as np \n",
        "new_shape = xtrain.shape[0], xtrain.shape[1]*xtrain.shape[2]\n",
        "x_train_reshaped = xtrain.reshape(new_shape)\n",
        "print(\"x_train_reshaped.shape = \",x_train_reshaped.shape)\n",
        "\n",
        "new_shape = xtest.shape[0], xtest.shape[1]*xtest.shape[2]\n",
        "x_test_reshaped = xtest.reshape(new_shape)\n",
        "print(\"x_test_reshaped.shape= \",x_test_reshaped.shape)"
      ],
      "execution_count": null,
      "outputs": [
        {
          "output_type": "stream",
          "text": [
            "x_train_reshaped.shape =  (60000, 784)\n",
            "x_test_reshaped.shape=  (10000, 784)\n"
          ],
          "name": "stdout"
        }
      ]
    },
    {
      "cell_type": "markdown",
      "metadata": {
        "id": "nYpyO6478R8R"
      },
      "source": [
        "chaque element est un pixel, une intensite entre 0 et 255"
      ]
    },
    {
      "cell_type": "code",
      "metadata": {
        "colab": {
          "base_uri": "https://localhost:8080/"
        },
        "id": "Y48TvBCT8JQa",
        "outputId": "455c8f85-2d79-4dba-ee21-0d99af373b11"
      },
      "source": [
        "#print(x_train_reshaped[0])\n",
        "max(x_train_reshaped[0])"
      ],
      "execution_count": null,
      "outputs": [
        {
          "output_type": "execute_result",
          "data": {
            "text/plain": [
              "255"
            ]
          },
          "metadata": {
            "tags": []
          },
          "execution_count": 39
        }
      ]
    },
    {
      "cell_type": "markdown",
      "metadata": {
        "id": "wTyhjUSG8x1g"
      },
      "source": [
        "On va normamiser les données: on soustrait la moyenne et on divise par l'ecart-type"
      ]
    },
    {
      "cell_type": "code",
      "metadata": {
        "colab": {
          "base_uri": "https://localhost:8080/"
        },
        "id": "RddErjli8vUn",
        "outputId": "d89766ad-be24-4325-bdb4-8afb5bf7a31b"
      },
      "source": [
        "x_mean_train = x_train_reshaped.mean()\n",
        "print( \"moyenne =\",x_mean_train)\n",
        "x_var_train = x_train_reshaped.std()\n",
        "print(\"ecart-type = \", x_var_train)\n",
        "\n",
        "x_mean_test = x_test_reshaped.mean()\n",
        "print( \"moyenne =\",x_mean_test)\n",
        "x_var_test = x_test_reshaped.std()\n",
        "print(\"ecart-type = \", x_var_test)"
      ],
      "execution_count": null,
      "outputs": [
        {
          "output_type": "stream",
          "text": [
            "moyenne = 33.318421449829934\n",
            "ecart-type =  78.56748998339798\n",
            "moyenne = 33.791224489795916\n",
            "ecart-type =  79.17246322228644\n"
          ],
          "name": "stdout"
        }
      ]
    },
    {
      "cell_type": "code",
      "metadata": {
        "id": "OSSoddQs9qHv"
      },
      "source": [
        "x_train_norme = (x_train_reshaped - x_mean_train)/x_var_train \n",
        "x_test_norme = (x_test_reshaped - x_mean_test)/x_var_test \n"
      ],
      "execution_count": null,
      "outputs": []
    },
    {
      "cell_type": "markdown",
      "metadata": {
        "id": "G5THIS1h_62N"
      },
      "source": [
        "creation du reseau de neurone: 3 couches: 128,128,10"
      ]
    },
    {
      "cell_type": "code",
      "metadata": {
        "id": "acY0hp-bCrfG"
      },
      "source": [
        "from tensorflow.keras.models import Sequential\n",
        "from tensorflow.keras.layers import Dense\n",
        "\n",
        "model = Sequential([ \n",
        "    Dense(128,activation=\"relu\", input_shape=(784,)),\n",
        "    Dense(128,activation=\"relu\"),\n",
        "    Dense(10,activation=\"softmax\"),\n",
        "  ])"
      ],
      "execution_count": null,
      "outputs": []
    },
    {
      "cell_type": "code",
      "metadata": {
        "id": "JbYCNx1oDQAc"
      },
      "source": [
        "model.compile(\n",
        "    optimizer=\"sgd\",\n",
        "    loss = 'categorical_crossentropy',\n",
        "    metrics = ['accuracy']\n",
        ")\n"
      ],
      "execution_count": null,
      "outputs": []
    },
    {
      "cell_type": "markdown",
      "metadata": {
        "id": "kVj3GCKpJcpF"
      },
      "source": [
        "precision sur le train: le loss est une variance et le accuraccy est l'efficacité"
      ]
    },
    {
      "cell_type": "code",
      "metadata": {
        "colab": {
          "base_uri": "https://localhost:8080/"
        },
        "id": "eoP2ALnmEo47",
        "outputId": "c3d9150e-2c99-404b-a846-cf8402979edc"
      },
      "source": [
        "model.fit(x_train_norme, ytrain_encoded ,epochs=3  )"
      ],
      "execution_count": null,
      "outputs": [
        {
          "output_type": "stream",
          "text": [
            "Epoch 1/3\n",
            "1875/1875 [==============================] - 4s 2ms/step - loss: 0.5939 - accuracy: 0.8245\n",
            "Epoch 2/3\n",
            "1875/1875 [==============================] - 3s 2ms/step - loss: 0.1960 - accuracy: 0.9426\n",
            "Epoch 3/3\n",
            "1875/1875 [==============================] - 3s 2ms/step - loss: 0.1415 - accuracy: 0.9589\n"
          ],
          "name": "stdout"
        },
        {
          "output_type": "execute_result",
          "data": {
            "text/plain": [
              "<tensorflow.python.keras.callbacks.History at 0x7f6348a33bd0>"
            ]
          },
          "metadata": {
            "tags": []
          },
          "execution_count": 55
        }
      ]
    },
    {
      "cell_type": "markdown",
      "metadata": {
        "id": "WNY395-lJYiz"
      },
      "source": [
        "precision sur le test"
      ]
    },
    {
      "cell_type": "code",
      "metadata": {
        "colab": {
          "base_uri": "https://localhost:8080/"
        },
        "id": "OE_HXwh9JXa5",
        "outputId": "04b7dbd0-27f2-438d-f891-feac24fba4a9"
      },
      "source": [
        "loss,accuracy =model.evaluate(x_test_norme,ytest_encoded) \n",
        "print(\"variance on test= \",loss)\n",
        "print(\"precision on test= \",accuracy)"
      ],
      "execution_count": null,
      "outputs": [
        {
          "output_type": "stream",
          "text": [
            "313/313 [==============================] - 0s 1ms/step - loss: 0.1312 - accuracy: 0.9605\n",
            "variance on test=  0.13121363520622253\n",
            "precision on test=  0.9605000019073486\n"
          ],
          "name": "stdout"
        }
      ]
    },
    {
      "cell_type": "code",
      "metadata": {
        "id": "Y0AOXx_yNltC"
      },
      "source": [
        ""
      ],
      "execution_count": null,
      "outputs": []
    },
    {
      "cell_type": "markdown",
      "metadata": {
        "id": "_sqyySqOMnMJ"
      },
      "source": [
        "voir les 25 premieres images"
      ]
    },
    {
      "cell_type": "code",
      "metadata": {
        "colab": {
          "base_uri": "https://localhost:8080/"
        },
        "id": "vXKktAVdNmzC",
        "outputId": "d47049f2-69df-4124-f9e5-1807ff45c336"
      },
      "source": [
        "preds = model.predict(x_test_norme)\n",
        "print(\"preds.shape = \", preds.shape) #10000 images test * 10 elms par liste\n",
        "\n",
        "preds[0] #elemt_i = proba que la premiere image soit = i. Il prends la plus grande valeur ey dit que c'est ça l'image\n"
      ],
      "execution_count": null,
      "outputs": [
        {
          "output_type": "stream",
          "text": [
            "preds.shape =  (10000, 10)\n"
          ],
          "name": "stdout"
        },
        {
          "output_type": "execute_result",
          "data": {
            "text/plain": [
              "array([1.72145272e-04, 2.03799596e-06, 8.91095668e-04, 3.55414371e-03,\n",
              "       1.35228793e-05, 1.07166794e-04, 1.16687389e-07, 9.92021739e-01,\n",
              "       1.19051227e-04, 3.11907963e-03], dtype=float32)"
            ]
          },
          "metadata": {
            "tags": []
          },
          "execution_count": 59
        }
      ]
    },
    {
      "cell_type": "code",
      "metadata": {
        "colab": {
          "base_uri": "https://localhost:8080/",
          "height": 640
        },
        "id": "W6asEBEzMq72",
        "outputId": "102b481a-0f15-4e76-bd53-8e626e6696a8"
      },
      "source": [
        "plt.figure(figsize=(12,12)) #fixer la taille de l'image\n",
        "\n",
        "start_index = 0\n",
        "\n",
        "for i in range(25):\n",
        "  plt.subplot(5,5,i+1)\n",
        "  plt.grid(False)\n",
        "  plt.xticks([])\n",
        "  plt.yticks([])\n",
        "\n",
        "  pred = np.argmax(preds[start_index+ i])  #recupere la plus grande probabilite\n",
        "  gt = ytest[start_index + i] #veritable valeur\n",
        "\n",
        "  col=\"g\"\n",
        "  if pred!=gt:\n",
        "    col='r'\n",
        "  plt.xlabel(\"i={} prdit={} realVal={}\".format(i,pred,gt),color=col)\n",
        "  plt.imshow(xtest[start_index+i],cmap=\"binary\")\n",
        "\n",
        "plt.show()"
      ],
      "execution_count": null,
      "outputs": [
        {
          "output_type": "display_data",
          "data": {
            "image/png": "[encoded data removed]",
            "text/plain": [
              "<Figure size 864x864 with 25 Axes>"
            ]
          },
          "metadata": {
            "tags": []
          }
        }
      ]
    },
    {
      "cell_type": "markdown",
      "metadata": {
        "id": "MKKypnXzTrPo"
      },
      "source": [
        "voir quelle etait sa precision"
      ]
    },
    {
      "cell_type": "code",
      "metadata": {
        "colab": {
          "base_uri": "https://localhost:8080/",
          "height": 265
        },
        "id": "NDttSGfCTgXe",
        "outputId": "550a6f45-4863-4623-e870-6665c6899124"
      },
      "source": [
        "plt.plot(preds[8])\n",
        "plt.show()"
      ],
      "execution_count": null,
      "outputs": [
        {
          "output_type": "display_data",
          "data": {
            "image/png": "[encoded data removed]",
            "text/plain": [
              "<Figure size 432x288 with 1 Axes>"
            ]
          },
          "metadata": {
            "tags": [],
            "needs_background": "light"
          }
        }
      ]
    },
    {
      "cell_type": "code",
      "metadata": {
        "colab": {
          "base_uri": "https://localhost:8080/",
          "height": 513
        },
        "id": "B_u7qwehTyhX",
        "outputId": "59181eba-309d-4165-9f48-90a3bd6ff8ad"
      },
      "source": [
        "plt.plot(preds[5])\n",
        "plt.show()\n",
        "plt.plot(preds[8])\n",
        "plt.show()"
      ],
      "execution_count": null,
      "outputs": [
        {
          "output_type": "display_data",
          "data": {
            "image/png": "[encoded data removed]",
            "text/plain": [
              "<Figure size 432x288 with 1 Axes>"
            ]
          },
          "metadata": {
            "tags": [],
            "needs_background": "light"
          }
        },
        {
          "output_type": "display_data",
          "data": {
            "image/png": "[encoded data removed]",
            "text/plain": [
              "<Figure size 432x288 with 1 Axes>"
            ]
          },
          "metadata": {
            "tags": [],
            "needs_background": "light"
          }
        }
      ]
    }
  ]
}